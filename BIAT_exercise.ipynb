{
  "cells": [
    {
      "cell_type": "markdown",
      "metadata": {
        "id": "view-in-github",
        "colab_type": "text"
      },
      "source": [
        "<a href=\"https://colab.research.google.com/github/tbeuden/python-novice-gapminder-data/blob/master/BIAT_exercise.ipynb\" target=\"_parent\"><img src=\"https://colab.research.google.com/assets/colab-badge.svg\" alt=\"Open In Colab\"/></a>"
      ]
    },
    {
      "cell_type": "markdown",
      "metadata": {
        "id": "V16pJ6-nbgPT"
      },
      "source": [
        "# Bring It All Together\n",
        "\n",
        "All thanks go to Sarah Stueve and Megh Krishnaswamy for their work on the notebook.\n",
        "\n",
        "The goal of this notebook is to exercise the acquired Python, git and Command Line knowledge obtained at the University of Arizona's Software Carpentries Spring workshop.\n",
        "\n",
        "We will be using Google Colab as it allows for the use of the Command Line as well as Python.\n",
        "\n",
        "The flow of this exercise is the is the following:\n",
        "\n",
        "1. Setup\n",
        "   - Open this Notebook in Google Colab\n",
        "   - Obtain the required `csv`\n",
        "   - Load the required packages\n",
        "2. Clean the imported `csv` and extract years\n",
        "3. Plot and visualize data\n",
        "   - Create a list\n",
        "   - Filtering\n",
        "   - Plotting\n",
        "4. Visualize text data\n",
        "5. Saving things in Git\n"
      ]
    },
    {
      "cell_type": "markdown",
      "metadata": {
        "id": "3jkZzl2gbgPZ"
      },
      "source": [
        "---\n",
        "\n",
        "## 1. Download, Import and Clean Data\n",
        "\n",
        "In the next cell, use a bash one-liner (`wget <raw github url>`) to download the dataset from the github repository into Google Colab's file system, and use the correct functions to import the raw csv file and index by country.\n",
        "\n",
        "To find the raw Github url for a file, click on the 'raw' button on the top right corner in the Github link to a file.\n",
        "\n",
        "![](https://raw.githubusercontent.com/CosiMichele/2503-carp-biat/main/github_raw_button.png)\n",
        "\n",
        "and get CSV file from a web url:"
      ]
    },
    {
      "cell_type": "code",
      "execution_count": 1,
      "metadata": {
        "id": "pZ4OkrACFy23",
        "outputId": "a1662963-aff8-43e1-9297-6ef64eb3c40c",
        "colab": {
          "base_uri": "https://localhost:8080/"
        }
      },
      "outputs": [
        {
          "output_type": "stream",
          "name": "stdout",
          "text": [
            "--2025-03-23 22:19:13--  https://raw.githubusercontent.com/CosiMichele/2503-carp-biat/refs/heads/main/gapminder_all.csv\n",
            "Resolving raw.githubusercontent.com (raw.githubusercontent.com)... 185.199.108.133, 185.199.109.133, 185.199.110.133, ...\n",
            "Connecting to raw.githubusercontent.com (raw.githubusercontent.com)|185.199.108.133|:443... connected.\n",
            "HTTP request sent, awaiting response... 200 OK\n",
            "Length: 49082 (48K) [text/plain]\n",
            "Saving to: ‘gapminder_all.csv’\n",
            "\n",
            "\rgapminder_all.csv     0%[                    ]       0  --.-KB/s               \rgapminder_all.csv   100%[===================>]  47.93K  --.-KB/s    in 0.002s  \n",
            "\n",
            "2025-03-23 22:19:13 (23.2 MB/s) - ‘gapminder_all.csv’ saved [49082/49082]\n",
            "\n"
          ]
        }
      ],
      "source": [
        "!wget https://raw.githubusercontent.com/CosiMichele/2503-carp-biat/refs/heads/main/gapminder_all.csv"
      ]
    },
    {
      "cell_type": "markdown",
      "metadata": {
        "id": "A9R583KUbgPX"
      },
      "source": [
        "---\n",
        "\n",
        "## 2. Import required packages and data"
      ]
    },
    {
      "cell_type": "code",
      "execution_count": 4,
      "metadata": {
        "id": "wans9dWYbgPY"
      },
      "outputs": [],
      "source": [
        "# Use this cell to load packages (pandas and matplotlib)\n",
        "\n",
        "import pandas as pd\n",
        "import matplotlib as plt"
      ]
    },
    {
      "cell_type": "code",
      "execution_count": 7,
      "metadata": {
        "id": "ROakOqACbgPZ",
        "outputId": "78e9e9c2-7627-43dd-d78b-4c70241a5bef",
        "colab": {
          "base_uri": "https://localhost:8080/"
        }
      },
      "outputs": [
        {
          "output_type": "stream",
          "name": "stdout",
          "text": [
            "             continent  gdpPercap_1952  gdpPercap_1957  gdpPercap_1962  \\\n",
            "country                                                                  \n",
            "Algeria         Africa     2449.008185     3013.976023     2550.816880   \n",
            "Angola          Africa     3520.610273     3827.940465     4269.276742   \n",
            "Benin           Africa     1062.752200      959.601080      949.499064   \n",
            "Botswana        Africa      851.241141      918.232535      983.653976   \n",
            "Burkina Faso    Africa      543.255241      617.183465      722.512021   \n",
            "\n",
            "              gdpPercap_1967  gdpPercap_1972  gdpPercap_1977  gdpPercap_1982  \\\n",
            "country                                                                        \n",
            "Algeria          3246.991771     4182.663766     4910.416756     5745.160213   \n",
            "Angola           5522.776375     5473.288005     3008.647355     2756.953672   \n",
            "Benin            1035.831411     1085.796879     1029.161251     1277.897616   \n",
            "Botswana         1214.709294     2263.611114     3214.857818     4551.142150   \n",
            "Burkina Faso      794.826560      854.735976      743.387037      807.198586   \n",
            "\n",
            "              gdpPercap_1987  gdpPercap_1992  ...    pop_1962    pop_1967  \\\n",
            "country                                       ...                           \n",
            "Algeria          5681.358539     5023.216647  ...  11000948.0  12760499.0   \n",
            "Angola           2430.208311     2627.845685  ...   4826015.0   5247469.0   \n",
            "Benin            1225.856010     1191.207681  ...   2151895.0   2427334.0   \n",
            "Botswana         6205.883850     7954.111645  ...    512764.0    553541.0   \n",
            "Burkina Faso      912.063142      931.752773  ...   4919632.0   5127935.0   \n",
            "\n",
            "                pop_1972    pop_1977    pop_1982    pop_1987    pop_1992  \\\n",
            "country                                                                    \n",
            "Algeria       14760787.0  17152804.0  20033753.0  23254956.0  26298373.0   \n",
            "Angola         5894858.0   6162675.0   7016384.0   7874230.0   8735988.0   \n",
            "Benin          2761407.0   3168267.0   3641603.0   4243788.0   4981671.0   \n",
            "Botswana        619351.0    781472.0    970347.0   1151184.0   1342614.0   \n",
            "Burkina Faso   5433886.0   5889574.0   6634596.0   7586551.0   8878303.0   \n",
            "\n",
            "                pop_1997  pop_2002  pop_2007  \n",
            "country                                       \n",
            "Algeria       29072015.0  31287142  33333216  \n",
            "Angola         9875024.0  10866106  12420476  \n",
            "Benin          6066080.0   7026113   8078314  \n",
            "Botswana       1536536.0   1630347   1639131  \n",
            "Burkina Faso  10352843.0  12251209  14326203  \n",
            "\n",
            "[5 rows x 37 columns]\n"
          ]
        }
      ],
      "source": [
        "# Import the data and set index\n",
        "\n",
        "raw_data = pd.read_csv(\"/content/gapminder_all.csv\",index_col=\"country\")\n",
        "print(raw_data.head())"
      ]
    },
    {
      "cell_type": "markdown",
      "metadata": {
        "id": "tITh1F7_bgPZ"
      },
      "source": [
        "### 2.1 Use the right function to drop the `continent` column."
      ]
    },
    {
      "cell_type": "code",
      "source": [
        "data=raw_data.drop(\"continent\", axis=1)\n",
        "print(data.head())"
      ],
      "metadata": {
        "id": "S6RG_1EUHWSh",
        "outputId": "32bf33d5-81ea-4fce-920f-6cdb3c7be366",
        "colab": {
          "base_uri": "https://localhost:8080/"
        }
      },
      "execution_count": 19,
      "outputs": [
        {
          "output_type": "stream",
          "name": "stdout",
          "text": [
            "              gdpPercap_1952  gdpPercap_1957  gdpPercap_1962  gdpPercap_1967  \\\n",
            "country                                                                        \n",
            "Algeria          2449.008185     3013.976023     2550.816880     3246.991771   \n",
            "Angola           3520.610273     3827.940465     4269.276742     5522.776375   \n",
            "Benin            1062.752200      959.601080      949.499064     1035.831411   \n",
            "Botswana          851.241141      918.232535      983.653976     1214.709294   \n",
            "Burkina Faso      543.255241      617.183465      722.512021      794.826560   \n",
            "\n",
            "              gdpPercap_1972  gdpPercap_1977  gdpPercap_1982  gdpPercap_1987  \\\n",
            "country                                                                        \n",
            "Algeria          4182.663766     4910.416756     5745.160213     5681.358539   \n",
            "Angola           5473.288005     3008.647355     2756.953672     2430.208311   \n",
            "Benin            1085.796879     1029.161251     1277.897616     1225.856010   \n",
            "Botswana         2263.611114     3214.857818     4551.142150     6205.883850   \n",
            "Burkina Faso      854.735976      743.387037      807.198586      912.063142   \n",
            "\n",
            "              gdpPercap_1992  gdpPercap_1997  ...    pop_1962    pop_1967  \\\n",
            "country                                       ...                           \n",
            "Algeria          5023.216647     4797.295051  ...  11000948.0  12760499.0   \n",
            "Angola           2627.845685     2277.140884  ...   4826015.0   5247469.0   \n",
            "Benin            1191.207681     1232.975292  ...   2151895.0   2427334.0   \n",
            "Botswana         7954.111645     8647.142313  ...    512764.0    553541.0   \n",
            "Burkina Faso      931.752773      946.294962  ...   4919632.0   5127935.0   \n",
            "\n",
            "                pop_1972    pop_1977    pop_1982    pop_1987    pop_1992  \\\n",
            "country                                                                    \n",
            "Algeria       14760787.0  17152804.0  20033753.0  23254956.0  26298373.0   \n",
            "Angola         5894858.0   6162675.0   7016384.0   7874230.0   8735988.0   \n",
            "Benin          2761407.0   3168267.0   3641603.0   4243788.0   4981671.0   \n",
            "Botswana        619351.0    781472.0    970347.0   1151184.0   1342614.0   \n",
            "Burkina Faso   5433886.0   5889574.0   6634596.0   7586551.0   8878303.0   \n",
            "\n",
            "                pop_1997  pop_2002  pop_2007  \n",
            "country                                       \n",
            "Algeria       29072015.0  31287142  33333216  \n",
            "Angola         9875024.0  10866106  12420476  \n",
            "Benin          6066080.0   7026113   8078314  \n",
            "Botswana       1536536.0   1630347   1639131  \n",
            "Burkina Faso  10352843.0  12251209  14326203  \n",
            "\n",
            "[5 rows x 36 columns]\n"
          ]
        }
      ]
    },
    {
      "cell_type": "code",
      "source": [],
      "metadata": {
        "id": "jU0o8ytMIJu1"
      },
      "execution_count": null,
      "outputs": []
    },
    {
      "cell_type": "code",
      "execution_count": null,
      "metadata": {
        "id": "DE_QAY2hbgPZ"
      },
      "outputs": [],
      "source": [
        "data = raw_data.<insert code>"
      ]
    },
    {
      "cell_type": "code",
      "source": [],
      "metadata": {
        "id": "SBDSBw8tIG0N"
      },
      "execution_count": null,
      "outputs": []
    },
    {
      "cell_type": "markdown",
      "metadata": {
        "id": "1MT3dQYQbgPa"
      },
      "source": [
        "### 2.2 Filter the columns\n",
        "\n",
        "When filtering columns, you can use `data.drop(columns=data.filter(like=\"<column to drop>\").columns)`. Here, `like` is used to search for a string in the column name, and `filter` removes all matches.\n",
        "\n",
        "In the next 2 cells, first filter the `lifeExp_` column and the the `pop_` column."
      ]
    },
    {
      "cell_type": "code",
      "source": [],
      "metadata": {
        "id": "CsXs2Db3JWzq"
      },
      "execution_count": null,
      "outputs": []
    },
    {
      "cell_type": "code",
      "execution_count": 20,
      "metadata": {
        "id": "AsQaKKShbgPa",
        "outputId": "b2e71071-3615-4446-ce63-df21ad5ad3ac",
        "colab": {
          "base_uri": "https://localhost:8080/"
        }
      },
      "outputs": [
        {
          "output_type": "stream",
          "name": "stdout",
          "text": [
            "              gdpPercap_1952  gdpPercap_1957  gdpPercap_1962  gdpPercap_1967  \\\n",
            "country                                                                        \n",
            "Algeria          2449.008185     3013.976023     2550.816880     3246.991771   \n",
            "Angola           3520.610273     3827.940465     4269.276742     5522.776375   \n",
            "Benin            1062.752200      959.601080      949.499064     1035.831411   \n",
            "Botswana          851.241141      918.232535      983.653976     1214.709294   \n",
            "Burkina Faso      543.255241      617.183465      722.512021      794.826560   \n",
            "\n",
            "              gdpPercap_1972  gdpPercap_1977  gdpPercap_1982  gdpPercap_1987  \\\n",
            "country                                                                        \n",
            "Algeria          4182.663766     4910.416756     5745.160213     5681.358539   \n",
            "Angola           5473.288005     3008.647355     2756.953672     2430.208311   \n",
            "Benin            1085.796879     1029.161251     1277.897616     1225.856010   \n",
            "Botswana         2263.611114     3214.857818     4551.142150     6205.883850   \n",
            "Burkina Faso      854.735976      743.387037      807.198586      912.063142   \n",
            "\n",
            "              gdpPercap_1992  gdpPercap_1997  ...    pop_1962    pop_1967  \\\n",
            "country                                       ...                           \n",
            "Algeria          5023.216647     4797.295051  ...  11000948.0  12760499.0   \n",
            "Angola           2627.845685     2277.140884  ...   4826015.0   5247469.0   \n",
            "Benin            1191.207681     1232.975292  ...   2151895.0   2427334.0   \n",
            "Botswana         7954.111645     8647.142313  ...    512764.0    553541.0   \n",
            "Burkina Faso      931.752773      946.294962  ...   4919632.0   5127935.0   \n",
            "\n",
            "                pop_1972    pop_1977    pop_1982    pop_1987    pop_1992  \\\n",
            "country                                                                    \n",
            "Algeria       14760787.0  17152804.0  20033753.0  23254956.0  26298373.0   \n",
            "Angola         5894858.0   6162675.0   7016384.0   7874230.0   8735988.0   \n",
            "Benin          2761407.0   3168267.0   3641603.0   4243788.0   4981671.0   \n",
            "Botswana        619351.0    781472.0    970347.0   1151184.0   1342614.0   \n",
            "Burkina Faso   5433886.0   5889574.0   6634596.0   7586551.0   8878303.0   \n",
            "\n",
            "                pop_1997  pop_2002  pop_2007  \n",
            "country                                       \n",
            "Algeria       29072015.0  31287142  33333216  \n",
            "Angola         9875024.0  10866106  12420476  \n",
            "Benin          6066080.0   7026113   8078314  \n",
            "Botswana       1536536.0   1630347   1639131  \n",
            "Burkina Faso  10352843.0  12251209  14326203  \n",
            "\n",
            "[5 rows x 24 columns]\n"
          ]
        }
      ],
      "source": [
        "data = data.drop(columns=data.filter(like=\"lifeExp_\").columns)\n",
        "print(data.head())"
      ]
    },
    {
      "cell_type": "code",
      "execution_count": 21,
      "metadata": {
        "id": "h0zqswXvbgPa",
        "outputId": "114b794a-de72-4ade-8387-1074564f2e0e",
        "colab": {
          "base_uri": "https://localhost:8080/"
        }
      },
      "outputs": [
        {
          "output_type": "stream",
          "name": "stdout",
          "text": [
            "              gdpPercap_1952  gdpPercap_1957  gdpPercap_1962  gdpPercap_1967  \\\n",
            "country                                                                        \n",
            "Algeria          2449.008185     3013.976023     2550.816880     3246.991771   \n",
            "Angola           3520.610273     3827.940465     4269.276742     5522.776375   \n",
            "Benin            1062.752200      959.601080      949.499064     1035.831411   \n",
            "Botswana          851.241141      918.232535      983.653976     1214.709294   \n",
            "Burkina Faso      543.255241      617.183465      722.512021      794.826560   \n",
            "\n",
            "              gdpPercap_1972  gdpPercap_1977  gdpPercap_1982  gdpPercap_1987  \\\n",
            "country                                                                        \n",
            "Algeria          4182.663766     4910.416756     5745.160213     5681.358539   \n",
            "Angola           5473.288005     3008.647355     2756.953672     2430.208311   \n",
            "Benin            1085.796879     1029.161251     1277.897616     1225.856010   \n",
            "Botswana         2263.611114     3214.857818     4551.142150     6205.883850   \n",
            "Burkina Faso      854.735976      743.387037      807.198586      912.063142   \n",
            "\n",
            "              gdpPercap_1992  gdpPercap_1997  gdpPercap_2002  gdpPercap_2007  \n",
            "country                                                                       \n",
            "Algeria          5023.216647     4797.295051     5288.040382     6223.367465  \n",
            "Angola           2627.845685     2277.140884     2773.287312     4797.231267  \n",
            "Benin            1191.207681     1232.975292     1372.877931     1441.284873  \n",
            "Botswana         7954.111645     8647.142313    11003.605080    12569.851770  \n",
            "Burkina Faso      931.752773      946.294962     1037.645221     1217.032994  \n"
          ]
        }
      ],
      "source": [
        "data = data.drop(columns=data.filter(like=\"pop_\").columns)\n",
        "print(data.head())"
      ]
    },
    {
      "cell_type": "markdown",
      "metadata": {
        "id": "StAntv6nbgPa"
      },
      "source": [
        "### 2.3 Print index\n",
        "\n",
        "In order to continue, you will need to use the correct format for each country's name (as they appear in data frame). In the next cell, use a `for` loop to print the index (that in this case, is the countries)."
      ]
    },
    {
      "cell_type": "code",
      "execution_count": 22,
      "metadata": {
        "colab": {
          "base_uri": "https://localhost:8080/"
        },
        "id": "sDKbmgTYbgPb",
        "outputId": "89b7f83d-792a-4e8e-c94f-b0e1ac68c43b"
      },
      "outputs": [
        {
          "output_type": "stream",
          "name": "stdout",
          "text": [
            "Algeria\n",
            "Angola\n",
            "Benin\n",
            "Botswana\n",
            "Burkina Faso\n",
            "Burundi\n",
            "Cameroon\n",
            "Central African Republic\n",
            "Chad\n",
            "Comoros\n",
            "Congo Dem. Rep.\n",
            "Congo Rep.\n",
            "Cote d'Ivoire\n",
            "Djibouti\n",
            "Egypt\n",
            "Equatorial Guinea\n",
            "Eritrea\n",
            "Ethiopia\n",
            "Gabon\n",
            "Gambia\n",
            "Ghana\n",
            "Guinea\n",
            "Guinea-Bissau\n",
            "Kenya\n",
            "Lesotho\n",
            "Liberia\n",
            "Libya\n",
            "Madagascar\n",
            "Malawi\n",
            "Mali\n",
            "Mauritania\n",
            "Mauritius\n",
            "Morocco\n",
            "Mozambique\n",
            "Namibia\n",
            "Niger\n",
            "Nigeria\n",
            "Reunion\n",
            "Rwanda\n",
            "Sao Tome and Principe\n",
            "Senegal\n",
            "Sierra Leone\n",
            "Somalia\n",
            "South Africa\n",
            "Sudan\n",
            "Swaziland\n",
            "Tanzania\n",
            "Togo\n",
            "Tunisia\n",
            "Uganda\n",
            "Zambia\n",
            "Zimbabwe\n",
            "Argentina\n",
            "Bolivia\n",
            "Brazil\n",
            "Canada\n",
            "Chile\n",
            "Colombia\n",
            "Costa Rica\n",
            "Cuba\n",
            "Dominican Republic\n",
            "Ecuador\n",
            "El Salvador\n",
            "Guatemala\n",
            "Haiti\n",
            "Honduras\n",
            "Jamaica\n",
            "Mexico\n",
            "Nicaragua\n",
            "Panama\n",
            "Paraguay\n",
            "Peru\n",
            "Puerto Rico\n",
            "Trinidad and Tobago\n",
            "United States\n",
            "Uruguay\n",
            "Venezuela\n",
            "Afghanistan\n",
            "Bahrain\n",
            "Bangladesh\n",
            "Cambodia\n",
            "China\n",
            "Hong Kong China\n",
            "India\n",
            "Indonesia\n",
            "Iran\n",
            "Iraq\n",
            "Israel\n",
            "Japan\n",
            "Jordan\n",
            "Korea Dem. Rep.\n",
            "Korea Rep.\n",
            "Kuwait\n",
            "Lebanon\n",
            "Malaysia\n",
            "Mongolia\n",
            "Myanmar\n",
            "Nepal\n",
            "Oman\n",
            "Pakistan\n",
            "Philippines\n",
            "Saudi Arabia\n",
            "Singapore\n",
            "Sri Lanka\n",
            "Syria\n",
            "Taiwan\n",
            "Thailand\n",
            "Vietnam\n",
            "West Bank and Gaza\n",
            "Yemen Rep.\n",
            "Albania\n",
            "Austria\n",
            "Belgium\n",
            "Bosnia and Herzegovina\n",
            "Bulgaria\n",
            "Croatia\n",
            "Czech Republic\n",
            "Denmark\n",
            "Finland\n",
            "France\n",
            "Germany\n",
            "Greece\n",
            "Hungary\n",
            "Iceland\n",
            "Ireland\n",
            "Italy\n",
            "Montenegro\n",
            "Netherlands\n",
            "Norway\n",
            "Poland\n",
            "Portugal\n",
            "Romania\n",
            "Serbia\n",
            "Slovak Republic\n",
            "Slovenia\n",
            "Spain\n",
            "Sweden\n",
            "Switzerland\n",
            "Turkey\n",
            "United Kingdom\n",
            "Australia\n",
            "New Zealand\n"
          ]
        }
      ],
      "source": [
        "for i in data.index:\n",
        "    print(i)"
      ]
    },
    {
      "cell_type": "markdown",
      "metadata": {
        "id": "saW4hFVIbgPb"
      },
      "source": [
        "### 2.4 Extract years\n",
        "\n",
        "Extract year from last 4 characters of each column name.\n",
        "\n",
        "The current column names are structured as `gdpPercap_(year)`, so we want to keep the `(year)` part only for clarity when plotting GDP vs. years.\n",
        "\n",
        "To do this we use `replace()`, which removes from the string the characters stated in the argument. This method works on strings, so we use `replace()` from Pandas Series.str vectorized string functions."
      ]
    },
    {
      "cell_type": "code",
      "execution_count": 30,
      "metadata": {
        "id": "aouDudptbgPb",
        "outputId": "2f984c26-4369-497a-a179-5ee25b88ef1c",
        "colab": {
          "base_uri": "https://localhost:8080/"
        }
      },
      "outputs": [
        {
          "output_type": "stream",
          "name": "stdout",
          "text": [
            "Index(['1952', '1957', '1962', '1967', '1972', '1977', '1982', '1987', '1992',\n",
            "       '1997', '2002', '2007'],\n",
            "      dtype='object')\n",
            "                     1952         1957         1962         1967         1972  \\\n",
            "country                                                                         \n",
            "Algeria       2449.008185  3013.976023  2550.816880  3246.991771  4182.663766   \n",
            "Angola        3520.610273  3827.940465  4269.276742  5522.776375  5473.288005   \n",
            "Benin         1062.752200   959.601080   949.499064  1035.831411  1085.796879   \n",
            "Botswana       851.241141   918.232535   983.653976  1214.709294  2263.611114   \n",
            "Burkina Faso   543.255241   617.183465   722.512021   794.826560   854.735976   \n",
            "\n",
            "                     1977         1982         1987         1992         1997  \\\n",
            "country                                                                         \n",
            "Algeria       4910.416756  5745.160213  5681.358539  5023.216647  4797.295051   \n",
            "Angola        3008.647355  2756.953672  2430.208311  2627.845685  2277.140884   \n",
            "Benin         1029.161251  1277.897616  1225.856010  1191.207681  1232.975292   \n",
            "Botswana      3214.857818  4551.142150  6205.883850  7954.111645  8647.142313   \n",
            "Burkina Faso   743.387037   807.198586   912.063142   931.752773   946.294962   \n",
            "\n",
            "                      2002          2007  \n",
            "country                                   \n",
            "Algeria        5288.040382   6223.367465  \n",
            "Angola         2773.287312   4797.231267  \n",
            "Benin          1372.877931   1441.284873  \n",
            "Botswana      11003.605080  12569.851770  \n",
            "Burkina Faso   1037.645221   1217.032994  \n"
          ]
        }
      ],
      "source": [
        "years = data.columns.str.replace(\"gdpPercap_\", \"\")\n",
        "print(years)\n",
        "\n",
        "# Convert year values to integers, saving results back to dataframe\n",
        "\n",
        "data.columns = years.astype(int)\n",
        "print(data.head())"
      ]
    },
    {
      "cell_type": "markdown",
      "metadata": {
        "id": "ZryIJghybgPc"
      },
      "source": [
        "---\n",
        "\n",
        "## 3 Visualizing Numerical Data: Listing and Plotting\n",
        "\n",
        "In the next cell, select a country to plot."
      ]
    },
    {
      "cell_type": "code",
      "execution_count": 35,
      "metadata": {
        "colab": {
          "base_uri": "https://localhost:8080/",
          "height": 159
        },
        "id": "llYCChc_bgPc",
        "outputId": "80492023-9f20-44b8-911a-90cb8a49083f"
      },
      "outputs": [
        {
          "output_type": "error",
          "ename": "TypeError",
          "evalue": "'Index' object is not callable",
          "traceback": [
            "\u001b[0;31m---------------------------------------------------------------------------\u001b[0m",
            "\u001b[0;31mTypeError\u001b[0m                                 Traceback (most recent call last)",
            "\u001b[0;32m<ipython-input-35-6201be00ab4b>\u001b[0m in \u001b[0;36m<cell line: 0>\u001b[0;34m()\u001b[0m\n\u001b[0;32m----> 1\u001b[0;31m \u001b[0mdata\u001b[0m\u001b[0;34m.\u001b[0m\u001b[0mcolumns\u001b[0m\u001b[0;34m(\u001b[0m\u001b[0;34m)\u001b[0m\u001b[0;34m\u001b[0m\u001b[0;34m\u001b[0m\u001b[0m\n\u001b[0m\u001b[1;32m      2\u001b[0m \u001b[0mprint\u001b[0m\u001b[0;34m(\u001b[0m\u001b[0mdata\u001b[0m\u001b[0;34m.\u001b[0m\u001b[0mhead\u001b[0m\u001b[0;34m(\u001b[0m\u001b[0;34m)\u001b[0m\u001b[0;34m)\u001b[0m\u001b[0;34m\u001b[0m\u001b[0;34m\u001b[0m\u001b[0m\n",
            "\u001b[0;31mTypeError\u001b[0m: 'Index' object is not callable"
          ]
        }
      ],
      "source": [
        "\n"
      ]
    },
    {
      "cell_type": "markdown",
      "metadata": {
        "id": "XH-WOxgfbgPc"
      },
      "source": [
        "### 3.1 Create a list\n",
        "\n",
        "Compare 5 countries of your choice. Create a list of countries that you are interested in."
      ]
    },
    {
      "cell_type": "code",
      "execution_count": null,
      "metadata": {
        "id": "x5Zq6xU5bgPc"
      },
      "outputs": [],
      "source": [
        "sel_countries = [<insert countries>]"
      ]
    },
    {
      "cell_type": "markdown",
      "metadata": {
        "id": "pv7X5xi2bgPd"
      },
      "source": [
        "### 3.2 Use index.isin() to filter\n",
        "\n",
        "`.isin(sel_countries)` checks whether each value in the index is present in the list `sel_countries`. Make sure to save to a different dataframe."
      ]
    },
    {
      "cell_type": "code",
      "execution_count": null,
      "metadata": {
        "id": "q_c0O79LbgPd"
      },
      "outputs": [],
      "source": [
        "data_countries = data[<insert code>]"
      ]
    },
    {
      "cell_type": "markdown",
      "metadata": {
        "id": "I4Tfq8TrFy25"
      },
      "source": [
        "Plot the data. Use \"GDP per capita\" as x-axis label, \"years\" as y-axis label, and save the image with dpi=300."
      ]
    },
    {
      "cell_type": "code",
      "execution_count": null,
      "metadata": {
        "id": "yRJ219c1bgPd"
      },
      "outputs": [],
      "source": [
        "data_countries.T.plot()\n",
        "plt.ylabel('GDP per capita')\n",
        "plt.xlabel('years')\n",
        "plt.savefig(\"countries_comparison.png\", dpi=300)"
      ]
    },
    {
      "cell_type": "markdown",
      "metadata": {
        "id": "ruPfeg4ZbgPe"
      },
      "source": [
        "---\n",
        "## 4 Visualizing Text Data: Plotting and Representing Frequency Distributions\n",
        "\n",
        "For data distributed continuously, plots are straighforward to generate. But what about **strings**?\n",
        "\n",
        "Let's say you want to find out how many countries there are in each continent. For this, we need to access the `continent` column in each row, and count how many rows each continent bin contains. This allows us numerical data from strings, that can then be plotted.\n"
      ]
    },
    {
      "cell_type": "markdown",
      "metadata": {
        "id": "vOd3WFfehaar"
      },
      "source": [
        "### 4.1 Using the right data"
      ]
    },
    {
      "cell_type": "code",
      "execution_count": null,
      "metadata": {
        "id": "i5qoaCZngbYL"
      },
      "outputs": [],
      "source": [
        "print(raw_data.head(), \"\\n\")"
      ]
    },
    {
      "cell_type": "code",
      "execution_count": null,
      "metadata": {
        "id": "QAn0ueIBhOKg"
      },
      "outputs": [],
      "source": [
        "print(data.head())"
      ]
    },
    {
      "cell_type": "markdown",
      "metadata": {
        "id": "9lONVfLigbLK"
      },
      "source": [
        "Can we use the filtered dataframe we created in Step 2? Why/Why not?"
      ]
    },
    {
      "cell_type": "markdown",
      "metadata": {
        "id": "kSjNLTjRh3m2"
      },
      "source": [
        "### 4.2 What are the continent names in this dataframe?"
      ]
    },
    {
      "cell_type": "markdown",
      "metadata": {
        "id": "BIR7IU20h-Cl"
      },
      "source": [
        "Multiple countries can belong to the same continent. And so, the values in the column `continent` is repeated.\n",
        "\n",
        "If we want to find out which continents are listed in the dataframe, we only need to list each possible value in the column `continent` once, i.e., unique values in the column.\n",
        "\n",
        "We use the function `<dataframe>['col_name'].unique()` for this:"
      ]
    },
    {
      "cell_type": "code",
      "execution_count": null,
      "metadata": {
        "id": "w-W8xB7zi0Xi"
      },
      "outputs": [],
      "source": [
        "# Print unique values in the column\n",
        "continents = raw_data[<insert col name>].unique()\n",
        "print(continents)\n"
      ]
    },
    {
      "cell_type": "markdown",
      "metadata": {
        "id": "1SdOa7aFjF_P"
      },
      "source": [
        "How many continents are present in this dataframe? Are any continents missing?"
      ]
    },
    {
      "cell_type": "markdown",
      "metadata": {
        "id": "0v8Lz90CkAh4"
      },
      "source": [
        "### 4.2 Filtering rows by continent:"
      ]
    },
    {
      "cell_type": "markdown",
      "metadata": {
        "id": "fWQ1rIfLkNlM"
      },
      "source": [
        "Create a list of continents you want to plot:"
      ]
    },
    {
      "cell_type": "code",
      "execution_count": null,
      "metadata": {
        "id": "eGyGdu0xkIWE"
      },
      "outputs": [],
      "source": [
        "# Filter the DataFrame to keep only specified continents\n",
        "allowed_continents = [<insert continents>]"
      ]
    },
    {
      "cell_type": "markdown",
      "metadata": {
        "id": "KaFmoCswFy26"
      },
      "source": [
        "Filter data using `.isin()`."
      ]
    },
    {
      "cell_type": "code",
      "execution_count": null,
      "metadata": {
        "id": "80cWQjcPkNFa"
      },
      "outputs": [],
      "source": [
        "filtered_data = raw_data[<insert code>]\n"
      ]
    },
    {
      "cell_type": "markdown",
      "metadata": {
        "id": "Wd0LNNCchj1K"
      },
      "source": [
        "### 4.3 Counting Countries in each continent"
      ]
    },
    {
      "cell_type": "markdown",
      "metadata": {
        "id": "gUkucvPhjNB4"
      },
      "source": [
        "Next, we want to use the column `continent`, and count how many rows a given continent name is observed in. This gives us a frequency distribition!\n",
        "\n",
        "For this, we use the `.value_counts())` function:"
      ]
    },
    {
      "cell_type": "code",
      "execution_count": null,
      "metadata": {
        "id": "9f5uO1mUjmQx"
      },
      "outputs": [],
      "source": [
        "# Print frequency table for each continent in the filtered dataframe\n",
        "filtered_continent_freq_distr = filtered_data[<insert column>].value_counts()\n",
        "<insert code>\n"
      ]
    },
    {
      "cell_type": "code",
      "execution_count": null,
      "metadata": {
        "id": "HiqciJM3juOX"
      },
      "outputs": [],
      "source": [
        "# Print frequency table for each continent in the raw dataframe\n",
        "raw_continent_freq_distr = raw_data[<insert columns>].value_counts()\n",
        "<insert code>"
      ]
    },
    {
      "cell_type": "markdown",
      "metadata": {
        "id": "UVEr3fuZkzQ4"
      },
      "source": [
        "This allows us to also check if our  filter worked correctly."
      ]
    },
    {
      "cell_type": "markdown",
      "metadata": {
        "id": "ke2bYU1GkzMq"
      },
      "source": [
        "### 4.4 Visualising word frequencies with Bar Plots\n",
        "\n",
        "We will now use the frequency distributions saved in the variables `filtered_continent_freq_distr` and `raw_continent_freq_distr` to count represent how many countries each continent has.\n",
        "\n",
        "Plot the data. Use \"Continent\" as x-axis label, \"Frequency\" as y-axis label, and save the image with dpi=300. Add a title if you want!"
      ]
    },
    {
      "cell_type": "code",
      "execution_count": null,
      "metadata": {
        "id": "vgOXBPxWkvBd"
      },
      "outputs": [],
      "source": [
        "# Generate bar plot for continent frequency in filtered dataframe:\n",
        "filtered_continent_freq_distr.plot(kind='bar')\n",
        "plt.xlabel(<insert desrcription>)\n",
        "plt.ylabel(<insert desrcription>)\n",
        "plt.title(<insert desrcription>)\n",
        "plt.savefig(<insert desrcription>, dpi=300)"
      ]
    },
    {
      "cell_type": "code",
      "execution_count": null,
      "metadata": {
        "id": "rdZmw3dZpijX"
      },
      "outputs": [],
      "source": [
        "# use the code above to generate a bar plot for all continents:\n",
        "# Generate bar plot for continent frequency in filtered dataframe:\n",
        "raw_continent_freq_distr.plot(kind='bar')\n",
        "plt.xlabel(<insert desrcription>)\n",
        "plt.ylabel(<insert desrcription>)\n",
        "plt.title(<insert desrcription>)\n",
        "plt.savefig(<insert desrcription>, dpi=300)"
      ]
    },
    {
      "cell_type": "markdown",
      "metadata": {
        "id": "iMuBXAoZlYkr"
      },
      "source": [
        "### 4.5 Visualising word frequencies with Wordclouds\n"
      ]
    },
    {
      "cell_type": "markdown",
      "metadata": {
        "id": "rsw7h4otleqC"
      },
      "source": [
        "Wordclouds are a fun tool to visualise how frequently a set of strings appear in a dataset. More frequent strings will be larger in size.\n",
        "\n",
        "For this we will import the `wordcloud` python library, and the frequency distributions we printed in 4.3:"
      ]
    },
    {
      "cell_type": "code",
      "execution_count": null,
      "metadata": {
        "id": "3yz_ZJiPlPqT"
      },
      "outputs": [],
      "source": [
        "from wordcloud import WordCloud"
      ]
    },
    {
      "cell_type": "code",
      "execution_count": null,
      "metadata": {
        "id": "FB7JrjVNlyZJ"
      },
      "outputs": [],
      "source": [
        "filtered_wordcloud = WordCloud(width=500, height=500,\n",
        "                      background_color='white').generate_from_frequencies(\n",
        "                       filtered_continent_freq_distr)"
      ]
    },
    {
      "cell_type": "code",
      "execution_count": null,
      "metadata": {
        "id": "rT68d75Pl4O2"
      },
      "outputs": [],
      "source": [
        "# Display the word cloud\n",
        "plt.figure(figsize=(10, 5))\n",
        "plt.imshow(filtered_wordcloud)\n",
        "plt.axis('off')\n",
        "plt.savefig(\"continents_comparison_wordcloud.png\", dpi=300)"
      ]
    },
    {
      "cell_type": "markdown",
      "metadata": {
        "id": "2nZjrsA9oaCU"
      },
      "source": [
        "### Which continent has the most countries?"
      ]
    },
    {
      "cell_type": "markdown",
      "metadata": {
        "id": "9FGXuJfMFy2-"
      },
      "source": [
        "---\n",
        "\n",
        "## 5. Save your change to Github\n",
        "\n",
        "To save your changes to Github, you do not require to use the command line. Instead, use the button on top of the page to save to a repository of your choice.\n",
        "\n",
        "![](https://raw.githubusercontent.com/CosiMichele/2503-carp-biat/refs/heads/main/save-in-git.png)\n",
        "\n",
        "![](https://raw.githubusercontent.com/CosiMichele/2503-carp-biat/refs/heads/main/save-in-git2.png)\n",
        "\n",
        "---\n",
        "\n",
        "## 6. In your computer, pull or clone the repository using git commands and open and potentially saved image.\n",
        "\n",
        "...aaaaand you're done!\n",
        "\n",
        "Thank you for taking part to this workshop! It's been a pleasure having you <3"
      ]
    }
  ],
  "metadata": {
    "colab": {
      "provenance": [],
      "include_colab_link": true
    },
    "kernelspec": {
      "display_name": "Python 3",
      "name": "python3"
    },
    "language_info": {
      "codemirror_mode": {
        "name": "ipython",
        "version": 3
      },
      "file_extension": ".py",
      "mimetype": "text/x-python",
      "name": "python",
      "nbconvert_exporter": "python",
      "pygments_lexer": "ipython3",
      "version": "3.12.9"
    }
  },
  "nbformat": 4,
  "nbformat_minor": 0
}